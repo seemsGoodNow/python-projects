{
 "cells": [
  {
   "cell_type": "code",
   "execution_count": 19,
   "id": "072cfc8d-3fa0-450b-a4b2-f81d0ef2f685",
   "metadata": {
    "execution": {
     "iopub.execute_input": "2023-06-16T12:26:33.321175Z",
     "iopub.status.busy": "2023-06-16T12:26:33.321175Z",
     "iopub.status.idle": "2023-06-16T12:26:33.326162Z",
     "shell.execute_reply": "2023-06-16T12:26:33.325181Z",
     "shell.execute_reply.started": "2023-06-16T12:26:33.321175Z"
    },
    "tags": []
   },
   "outputs": [],
   "source": [
    "import pandas as pd\n",
    "import numpy as np\n",
    "import os\n",
    "import math\n",
    "from copy import copy\n",
    "import datetime\n",
    "import warnings"
   ]
  },
  {
   "cell_type": "code",
   "execution_count": null,
   "id": "8a97aad8-fa3e-4476-8bd3-de7f4e6e796c",
   "metadata": {},
   "outputs": [],
   "source": [
    "!pip install ipython-autotime\n",
    "%load_ext autotime"
   ]
  },
  {
   "cell_type": "markdown",
   "id": "1c9fe439-fc7a-4525-a0f9-a5cac7f67f43",
   "metadata": {
    "tags": []
   },
   "source": [
    "# StillingerWeber class"
   ]
  },
  {
   "cell_type": "code",
   "execution_count": 20,
   "id": "08c1d1a4-5703-4420-af1d-7dc75a30240e",
   "metadata": {
    "execution": {
     "iopub.execute_input": "2023-06-16T12:26:33.901698Z",
     "iopub.status.busy": "2023-06-16T12:26:33.901698Z",
     "iopub.status.idle": "2023-06-16T12:26:33.945579Z",
     "shell.execute_reply": "2023-06-16T12:26:33.944581Z",
     "shell.execute_reply.started": "2023-06-16T12:26:33.901698Z"
    },
    "tags": []
   },
   "outputs": [],
   "source": [
    "class StillingerWeber:\n",
    "    \"\"\"\n",
    "        Class for calculating SW potential for silicon and fullerene, \n",
    "        optimization params of SW potential for fullerene\n",
    "    \"\"\"\n",
    "    def __set_SW_params(self, struct_name='silicon') -> None:\n",
    "        \"\"\"\n",
    "        Function sets default parameters for SW potential (for \"silicon\") or\n",
    "        chooses optimized parameters suitable for fullerene.\n",
    "            \n",
    "            :param struct_name: \"silicon\" or \"fullerene\"\n",
    "            \n",
    "            :return None\n",
    "        \"\"\"\n",
    "        if struct_name.lower() == 'silicon':\n",
    "            self.eps = 2.16826\n",
    "            self.A = 7.049556277\n",
    "            self.B = 0.6022245584\n",
    "            self.sigma = 2.0951\n",
    "            self.p = 4\n",
    "            self.a = 1.8\n",
    "            self.LAMBDA = 21.0\n",
    "            self.gamma = 1.2\n",
    "            self.cos_theta0 = -1/3\n",
    "            self.params = np.array([self.eps, self.A, self.B, self.sigma, self.p,\n",
    "                                    self.a, self.LAMBDA, self.gamma, self.cos_theta0])\n",
    "            \n",
    "        elif struct_name.lower() == 'fullerene':\n",
    "            self.eps = 2.16376271 \n",
    "            self.A = 7.05471636\n",
    "            self.B = 0.21584245\n",
    "            self.sigma = 1.70666882\n",
    "            self.p = 3.9651871\n",
    "            self.a = 1.67952818\n",
    "            self.LAMBDA = 20.997803 \n",
    "            self.gamma = 1.36300948\n",
    "            self.cos_theta0 = -0.26969633\n",
    "            self.params = np.array([self.eps, self.A, self.B, self.sigma, self.p,\n",
    "                                    self.a, self.LAMBDA, self.gamma, self.cos_theta0])\n",
    "        \n",
    "        else: \n",
    "            raise ValueError('Please choose option between \"silicon\" and \"fullerene\"')\n",
    "            \n",
    "    @staticmethod\n",
    "    def theta_func(x) -> int:\n",
    "        \"\"\"\n",
    "        Math Heaviside function\n",
    "        \"\"\"\n",
    "        if x > 0:\n",
    "            return 1\n",
    "        else:\n",
    "            return 0\n",
    "\n",
    "    @staticmethod\n",
    "    def delta_func(x) -> int:\n",
    "        \"\"\"\n",
    "        Math delta function\n",
    "        \"\"\"\n",
    "        if x == 0:\n",
    "            return 1\n",
    "        else:\n",
    "            return 0\n",
    "\n",
    "    @staticmethod\n",
    "    def cos_3d(vec1, vec2) -> float:\n",
    "        \"\"\"\n",
    "        Function calc cos() between two 3-dimensional vectors\n",
    "        \"\"\"\n",
    "        scalar_product = np.dot(vec1, vec2)\n",
    "        mod1 = np.linalg.norm(vec1)\n",
    "        mod2 = np.linalg.norm(vec2)\n",
    "        if mod1 == 0 or mod2 == 0:\n",
    "            raise ZeroDivisionError('One of vectors is equal to zero vector')\n",
    "        else:\n",
    "            return scalar_product/(mod1*mod2)\n",
    "        \n",
    "    def calc_pot_per_atom(self, struct:np.array, atom_num:int) -> float:\n",
    "        \"\"\"\n",
    "        Function calculates Stillinger-Weber potential for atom with number atom_num\n",
    "        \n",
    "            :param struct: np.array with shape (N_atoms, 3) with coordinates\n",
    "            :param atom_num: atom number\n",
    "            :return: float value of potential\n",
    "        \"\"\"\n",
    "        res = 0\n",
    "        for j in range(len(struct)):\n",
    "            if j != atom_num:\n",
    "                vec_ij = struct[j] - struct[atom_num]\n",
    "                dist_ij = np.linalg.norm(vec_ij)\n",
    "                if self.sigma != 0:\n",
    "                    theta_ij = self.theta_func(self.a - dist_ij/self.sigma)\n",
    "                else:\n",
    "                    theta_ij = 0\n",
    "\n",
    "                if theta_ij == 0:\n",
    "                    prod = 0\n",
    "                else:\n",
    "                    exp_term_ij = self.gamma/(dist_ij/self.sigma - self.a)\n",
    "\n",
    "                    # Calculating 2_body part\n",
    "                    multiplicand = self.B*pow(self.sigma/dist_ij, self.p) - 1\n",
    "                    multiplier = math.exp(1/(dist_ij/self.sigma - self.a))\n",
    "                    prod = multiplicand * multiplier\n",
    "                    res += prod\n",
    "                    prod_3 = 0\n",
    "                    for k in range(len(struct)):\n",
    "                        if k != atom_num and k != j:\n",
    "                            # Calculating 3_body part\n",
    "                            vec_ik = struct[k] - struct[atom_num]\n",
    "                            dist_ik = np.linalg.norm(vec_ik)\n",
    "                            theta_ik = self.theta_func(self.a - dist_ik/self.sigma)\n",
    "                            if theta_ik == 0:\n",
    "                                prod_3 = 0\n",
    "                            else:\n",
    "                                cos_jik = self.cos_3d(vec_ij, vec_ik)\n",
    "                                cos_mult = pow(cos_jik - self.cos_theta0, 2)\n",
    "\n",
    "                                exp_term_ik = self.gamma/(dist_ik/self.sigma - self.a)\n",
    "                                exp_mult = math.exp(exp_term_ij + exp_term_ik)\n",
    "                                prod_3 = exp_mult * cos_mult\n",
    "                                res += (self.LAMBDA/self.A) * prod_3\n",
    "        \n",
    "        return 1/2 * self.eps * self.A * res\n",
    "\n",
    "    def calc_pot(self, struct) -> float:\n",
    "        \"\"\"\n",
    "        Function calculates summarized potential for all atoms of the struct\n",
    "        \n",
    "            :param struct: np.array with shape (N_atoms, 3) with coordinates\n",
    "            :return: value of SW potential for the struct\n",
    "        \"\"\"\n",
    "        res = 0\n",
    "        for i in range(len(struct)):\n",
    "            res += self.calc_pot_per_atom(atom_num=i, struct=struct)\n",
    "        return res\n",
    "    \n",
    "    def __change_consts(self, shift_vec=None,  how='shift'):\n",
    "        \"\"\"\n",
    "        Function shift params of SW potential of assign new values to them\n",
    "        \n",
    "            :param shift_vec: vector for changing values in SW potential\n",
    "            :param how: \"assign\" - set new values, or \"shift\" - change old values \n",
    "        \"\"\"\n",
    "        shift_vec = copy(shift_vec)\n",
    "        if how == 'assign':\n",
    "            self.params = shift_vec\n",
    "            self.eps = shift_vec[0]\n",
    "            self.A = shift_vec[1]\n",
    "            self.B = shift_vec[2]\n",
    "            self.sigma = shift_vec[3]\n",
    "            self.p = shift_vec[4]\n",
    "            self.a = shift_vec[5]\n",
    "            self.LAMBDA = shift_vec[6]\n",
    "            self.gamma = shift_vec[7]\n",
    "            self.cos_theta0 = shift_vec[8]\n",
    "        elif how == 'shift':\n",
    "            self.params += shift_vec\n",
    "            self.eps = self.params[0]\n",
    "            self.A = self.params[1]\n",
    "            self.B = self.params[2]\n",
    "            self.sigma = self.params[3]\n",
    "            self.p = self.params[4]\n",
    "            self.a = self.params[5]\n",
    "            self.LAMBDA = self.params[6]\n",
    "            self.gamma = self.params[7]\n",
    "            self.cos_theta0 = self.params[8]    \n",
    "    \n",
    "    def mse_loss(self, X, y):\n",
    "        \"\"\"\n",
    "        Function calculate MSE loss between y_true (y) and y_pred = sw.calc_pot(X)\n",
    "        \n",
    "            :param X: vector of coords of atoms with shape (N_atoms, 3)\n",
    "            :param y: true value of potential\n",
    "        \"\"\"\n",
    "        def squared_error(struct, y_true):\n",
    "            sw_pot = self.calc_pot(struct)\n",
    "            return pow(sw_pot - y_true, 2)\n",
    "\n",
    "        loss = 0\n",
    "        for i in range(len(X)):\n",
    "            loss += squared_error(X[i], y[i])\n",
    "\n",
    "        mse = loss/len(X)\n",
    "        return mse\n",
    "    \n",
    "    def optimize_params_for_fullerene(self, X=None, y=None, dir_path=None,\n",
    "                                      EPS=5e-11, alpha=1e-7, iterations=1000,\n",
    "                                      TOL=1e3):\n",
    "        \"\"\"\n",
    "        Function of optimization existing parameters of SW potential based \n",
    "        on provided X and y (or files from dir_path if specified)\n",
    "        \n",
    "            :param X: vector of coords of atoms with shape (N_atoms, 3)\n",
    "            :param y: true value of potential\n",
    "            :param dir_path: directory path with files with coordinates of \n",
    "                Fullerene and values of energy (given from GAMESS software).\n",
    "                If this param is specified, X and y shouldn't be specified\n",
    "            :param EPS: tolerance of numerical calculation of derivative\n",
    "            :param alpha: coefficient of proportional in expression \n",
    "                w_i+1 = w_i - alpha*grad(LossFunc); - gradient decent\n",
    "            :param iterations: number of iterations of algorithm\n",
    "            :param TOL: Max value of gradient of Loss Function. If gradient is\n",
    "                lower then algorithm will stop earlier than moment when all \n",
    "                iterations will have be completed\n",
    "        \"\"\"\n",
    "        \n",
    "        # Case when need to download data from folder\n",
    "        if dir_path is not None:\n",
    "            X = []\n",
    "            y = []\n",
    "            for file in os.listdir(dir_path):\n",
    "                try:\n",
    "                    fln = Fullerene(filepath=dir_path + file, file_from='gamess_out_file',\n",
    "                               struct_type='numpy')\n",
    "                except NameError:\n",
    "                    print('\"Fullerene class have to be initialized!\"')\n",
    "                X += [fln.struct]\n",
    "                y += [fln.energy]\n",
    "\n",
    "        param_vec = copy(self.params)\n",
    "        \n",
    "        time_start = datetime.datetime.now()\n",
    "        \n",
    "        it = 0\n",
    "        grad_value = TOL + 1\n",
    "        while it < iterations and grad_value > TOL:\n",
    "            time_start_it = datetime.datetime.now()\n",
    "            print('\\nITERATION: ', it)\n",
    "            grad_vec = np.array([0 for k in range(len(param_vec))], dtype='float')\n",
    "            for i in range(len(param_vec)):\n",
    "                shift_vec = np.array([0 for k in range(len(param_vec))], dtype='float')\n",
    "                shift_vec[i] = EPS\n",
    "                self.__change_consts(shift_vec=shift_vec, how='shift')\n",
    "                loss_plus = self.mse_loss(X, y)\n",
    "                shift_vec[i] = -1*EPS\n",
    "                self.__change_consts(shift_vec=2*shift_vec, how='shift')\n",
    "                loss_minus = self.mse_loss(X, y)\n",
    "                self.__change_consts(shift_vec=param_vec, how='assign')\n",
    "                grad_vec[i] = (loss_plus-loss_minus)/(2*EPS)\n",
    "            grad_value = np.linalg.norm(grad_vec)\n",
    "            \n",
    "            print('GRADIENT: ', grad_value)\n",
    "            print('PARAMS VECTOR: ', self.params)\n",
    "            \n",
    "            self.__change_consts(shift_vec=grad_vec*(-1*alpha), how='shift')\n",
    "            param_vec = copy(self.params)\n",
    "            \n",
    "            it += 1\n",
    "            \n",
    "            time_end_it = datetime.datetime.now()\n",
    "            time_end = datetime.datetime.now()\n",
    "            time_taken_it = round(((time_end_it - time_start_it).seconds*1e3  \\\n",
    "                                + (time_end_it - time_start_it).microseconds*1e-3)/1000, 3)\n",
    "            \n",
    "            print('TIME TAKEN: ', time_taken_it, 's')\n",
    "            \n",
    "        time_end = datetime.datetime.now()\n",
    "        time_taken_gen = round(((time_end - time_start).seconds*1e3  \\\n",
    "                                + (time_end - time_start).microseconds*1e-3)/1000, 3)\n",
    "        print('\\nOVERALL TIME TAKEN: ', time_taken_gen)\n",
    "        \n",
    "    def __init__(self, struct_name='silicon'):\n",
    "        self.__set_SW_params(struct_name)"
   ]
  },
  {
   "cell_type": "markdown",
   "id": "6c3e2105-7f58-45e7-9165-51169ced8bc4",
   "metadata": {
    "tags": []
   },
   "source": [
    "# Atom class "
   ]
  },
  {
   "cell_type": "code",
   "execution_count": 21,
   "id": "85b51471-bb6b-47ac-a749-69c6d835bc26",
   "metadata": {
    "execution": {
     "iopub.execute_input": "2023-06-16T12:26:35.184709Z",
     "iopub.status.busy": "2023-06-16T12:26:35.183743Z",
     "iopub.status.idle": "2023-06-16T12:26:35.205651Z",
     "shell.execute_reply": "2023-06-16T12:26:35.204684Z",
     "shell.execute_reply.started": "2023-06-16T12:26:35.184709Z"
    },
    "tags": []
   },
   "outputs": [],
   "source": [
    "class Atoms:\n",
    "    \"\"\"\n",
    "        Class with common methods for Fullerene and Silicon\n",
    "    \"\"\"\n",
    "    def output_txt_coords(self, filename=None, show_atom_number=False) -> None:\n",
    "        \"\"\"\n",
    "        Function save current struct coordinates to file with name filename.\n",
    "        Format of data is suitable for Chemcraft visualisation.\n",
    "        \n",
    "            :param filename: name of file (As default saves to the\n",
    "                'not_gamess_data/output_coords/atom_nameSTRUCTLENGTH.txt')\n",
    "            :param show_atom_number: show atom number or show atom name\n",
    "\n",
    "            :return: None\n",
    "        \"\"\"\n",
    "        if filename is None:\n",
    "            filename = 'not_gamess_data/output_coords/' + str(self.atom_name) \\\n",
    "                + str(self.length) + '.txt'\n",
    "        \n",
    "        if show_atom_number:\n",
    "            atom = self.atom_num\n",
    "        else:\n",
    "            atom = self.atom_name\n",
    "        data = pd.DataFrame({\n",
    "            'Elem': [atom for i in range(self.length)],\n",
    "            'x': self.struct.T[0],\n",
    "            'y': self.struct.T[1],\n",
    "            'z': self.struct.T[2]\n",
    "        })\n",
    "        data.to_csv(filename, index=False, sep='\\t', header=False)\n",
    "    \n",
    "    def get_pd_coords(self, show_atom_number=False) -> pd.DataFrame:\n",
    "        \"\"\"\n",
    "        Function returns coordinates in pandas format\n",
    "        \n",
    "            :param show_atom_number: show atom number or show atom name\n",
    "            :return: pd.DataFrame\n",
    "        \"\"\"\n",
    "        if show_atom_number:\n",
    "            atom = self.atom_num\n",
    "        else:\n",
    "            atom = self.atom_name\n",
    "        data = pd.DataFrame({\n",
    "            'Elem': [atom for i in range(self.length)],\n",
    "            'x': self.struct.T[0],\n",
    "            'y': self.struct.T[1],\n",
    "            'z': self.struct.T[2]\n",
    "        })\n",
    "        return data\n",
    "    \n",
    "    @staticmethod\n",
    "    def __shift_atom(struct, atom, shift_vec=np.array([0,0,0], dtype='float')) -> np.array:\n",
    "        \"\"\"\n",
    "        Method shift one atom of the struct by a shift_vec and returns new struct\n",
    "        \"\"\"\n",
    "        struct = copy(struct)\n",
    "        struct[atom] += shift_vec\n",
    "        return struct\n",
    "\n",
    "    def calc_force_per_atom(self, atom_num, EPS=1e-3) -> float:\n",
    "        \"\"\"\n",
    "        Function calculates -1 * gradient of potential (force applied to the atom with number atom_num)\n",
    "        Functions uses numerical method of calculation derivative\n",
    "        \n",
    "            :param atom_num: atom number\n",
    "            :param eps: tolerance of calculating derivative\n",
    "            :return: float value of force\n",
    "        \"\"\"\n",
    "        grad = np.array([0, 0, 0], dtype='float')     # zero force vector\n",
    "        \n",
    "        # Shift for every axes\n",
    "        for j in range(3):\n",
    "            shift_vec = np.array([0,0,0], dtype='float')\n",
    "            shift_vec[j] = EPS\n",
    "            pot_plus_e = self.calc_pot_per_atom(\n",
    "                struct = self.__shift_atom(struct=copy(self.struct),\n",
    "                                           atom=atom_num, shift_vec=shift_vec),\n",
    "                atom_num=atom_num)\n",
    "            \n",
    "            shift_vec[j] = -1*EPS\n",
    "            \n",
    "            pot_minus_e = self.calc_pot_per_atom(\n",
    "                struct = self.__shift_atom(struct=copy(self.struct),\n",
    "                                           atom=atom_num, shift_vec=shift_vec),\n",
    "                atom_num=atom_num)\n",
    "            \n",
    "            grad += (pot_plus_e-pot_minus_e)/(2*EPS)\n",
    "        return -1 * grad\n",
    "    \n",
    "    def __shift_struct(self, shift_vec):\n",
    "        \"\"\"\n",
    "            Method shifts all struct by a shift_vec\n",
    "        \"\"\"\n",
    "        self.struct += shift_vec\n",
    "    \n",
    "    def relax(self, iterations=100, start_alpha=5e-4, end_alpha=1e-5, TOL=1.5, max_shift=1e1, EPS=5e-8):\n",
    "        \"\"\"\n",
    "        Function relax structure moving atoms along the forces. In general\n",
    "        algorithm doing this: w_i+1 = w_i - alpha*grad(LossFunc); - gradient\n",
    "        decent, but also It is allowed to decrease alpha along iterations. \n",
    "        Here used exponential attenuation by the rule alpha = C*exp(t*x), \n",
    "        where x is iteration.\n",
    "        Specifying start_alpha and end_alpha determine C and t in this rule\n",
    "            \n",
    "            :param iterations: number of iterations of algorithm\n",
    "            :param start_alpha:\n",
    "            :param end_alpha:\n",
    "            :param TOL: Max value of gradient of Loss Function. If gradient is\n",
    "                lower then algorithm will stop earlier than moment when all \n",
    "                iterations will have be completed\n",
    "            :param max_shift: max shift per iteration of atom can be restricted\n",
    "            :param EPS: tolerance of numerical calculation of derivative\n",
    "        \"\"\"\n",
    "        # Exp Cexp(tx)\n",
    "        C = start_alpha\n",
    "        t = 1/iterations * math.log(end_alpha/C)\n",
    "        it = 0\n",
    "        avg_force = TOL + 1\n",
    "        while it < iterations and avg_force > TOL:\n",
    "            shift_vec = []\n",
    "            forces = []\n",
    "            alpha = C*math.exp(t*it)\n",
    "            print(f'Iteration: {it}, alpha: {alpha}')\n",
    "            for atom in range(len(self.struct)):\n",
    "                force = self.calc_force_per_atom(atom_num=atom, EPS=EPS)\n",
    "                forces += [force]\n",
    "                if np.linalg.norm(force) > TOL and np.linalg.norm(force) != 0:\n",
    "                    shift_vec += [alpha * force]\n",
    "                    for k in range(len(shift_vec[atom])):\n",
    "                        if shift_vec[atom][k] > max_shift:\n",
    "                            shift_vec[atom][k] = max_shift\n",
    "                else:\n",
    "                    shift_vec += [np.array([0,0,0], dtype='float')]\n",
    "            avg_force = np.linalg.norm(np.array(forces), axis=1).mean()\n",
    "            print('AVG Force Before step: ', avg_force)\n",
    "            print()\n",
    "            self.__shift_struct(np.array(shift_vec))\n",
    "            it += 1"
   ]
  },
  {
   "cell_type": "markdown",
   "id": "daf6c1e7-1782-4530-b4ad-2ff6b24174d7",
   "metadata": {},
   "source": [
    "# DiamondStructure"
   ]
  },
  {
   "cell_type": "markdown",
   "id": "fb90b99c-c372-4cb3-accf-f64367b43343",
   "metadata": {
    "tags": []
   },
   "source": [
    "## DiamondStructure class definition\n"
   ]
  },
  {
   "cell_type": "code",
   "execution_count": 11,
   "id": "8c7acabd-d61d-4ed5-90ca-89eb782338b4",
   "metadata": {
    "execution": {
     "iopub.execute_input": "2023-06-16T12:23:54.271661Z",
     "iopub.status.busy": "2023-06-16T12:23:54.271661Z",
     "iopub.status.idle": "2023-06-16T12:23:54.300132Z",
     "shell.execute_reply": "2023-06-16T12:23:54.300132Z",
     "shell.execute_reply.started": "2023-06-16T12:23:54.271661Z"
    },
    "tags": []
   },
   "outputs": [],
   "source": [
    "class DiamondStructure(StillingerWeber, Atoms):\n",
    "    \"\"\"\n",
    "    Class for building structure of Silicon/Diamond\n",
    "    \"\"\"\n",
    "    LP_Silicon = 5.44   # crystal lattice parameter for silicon\n",
    "    LP_Diamond = 3.567   # crystal lattice parameter for diamond\n",
    "\n",
    "    # Default Silicone CELL\n",
    "    # Si\t0.0\t0.0\t0.0\n",
    "    # Si\t1.36\t1.36\t1.36\n",
    "    # Si\t2.72\t2.72\t0.0\n",
    "    # Si\t4.08\t4.08\t1.36\n",
    "    # Si\t2.72\t0.00\t2.72\n",
    "    # Si\t0.00\t2.72\t2.72\n",
    "    # Si\t4.08\t1.36\t4.08\n",
    "    # Si\t1.36\t4.08\t4.08\n",
    "\n",
    "    def __set_lattice_params(self, struct_name='silicon') -> None:\n",
    "        \"\"\"\n",
    "        Function set lattice parrams depending on the name of Structure \n",
    "        \"\"\"\n",
    "        \n",
    "        if struct_name.lower() == 'silicon':\n",
    "            LP = self.LP_Silicon\n",
    "        elif struct_name.lower() == 'diamond':\n",
    "            LP = self.LP_Diamond\n",
    "        \n",
    "        # Elementary cell\n",
    "        self.CELL = np.array([\n",
    "            [0, 0, 0],\n",
    "            [LP/4, LP/4, LP/4],\n",
    "            [LP/2, LP/2, 0],\n",
    "            [3*LP/4, 3*LP/4, LP/4],\n",
    "            [LP/2, 0, LP/2],\n",
    "            [0, LP/2, LP/2],\n",
    "            [3*LP/4, LP/4, 3*LP/4],\n",
    "            [LP/4, 3*LP/4, 3*LP/4],\n",
    "        ])\n",
    "        self.N_atoms = len(self.CELL)\n",
    "\n",
    "        # Translation vectors\n",
    "        self.X_vector = np.array([LP, 0, 0])\n",
    "        self.Y_vector = np.array([0, LP, 0])\n",
    "        self.Z_vector = np.array([0, 0, LP])\n",
    "    \n",
    "    def __set_name_and_number(self, struct_name='silicon') -> None:\n",
    "        \"\"\"\n",
    "        Function set name of atom and number depending on the name of Structure\n",
    "        \"\"\"\n",
    "        if struct_name.lower() == 'silicon':\n",
    "            self.atom_name = 'Si'\n",
    "            self.atom_num = 14\n",
    "        elif struct_name.lower() == 'diamond':\n",
    "            self.atom_name = 'C'\n",
    "            self.atom_num = 6\n",
    "            \n",
    "    def __build_structure(self, shape=(1,1,1)) -> np.array:\n",
    "        \"\"\"\n",
    "        Func builds structure of Silicon/Diamond\n",
    "        \n",
    "            :param shape: shape of structure where indices i x j x k means\n",
    "                i,j,k cells in x, y, z directions\n",
    "                \n",
    "            :return: struct (np.array with shape (N_atoms, 3))\n",
    "        \"\"\"\n",
    "        struct = self.CELL.copy()\n",
    "        n_dim_X_vector = np.repeat([self.X_vector], repeats=self.N_atoms, axis=0)\n",
    "        n_dim_Y_vector = np.repeat([self.Y_vector], repeats=self.N_atoms, axis=0)\n",
    "        n_dim_Z_vector = np.repeat([self.Z_vector], repeats=self.N_atoms, axis=0)\n",
    "        for x_i in range(shape[0]):\n",
    "            for y_i in range(shape[1]):\n",
    "                for z_i in range(shape[2]):\n",
    "                    if x_i == y_i == z_i == 0:\n",
    "                        pass\n",
    "                    else:\n",
    "                        translated_struct = self.CELL + n_dim_X_vector*x_i \\\n",
    "                            + n_dim_Y_vector*y_i + n_dim_Z_vector*z_i\n",
    "                        struct = np.concatenate((struct, translated_struct), axis=0)\n",
    "        return struct\n",
    "\n",
    "    def __init__(self, shape, struct_name='silicon'):\n",
    "        super().__init__(struct_name='silicon') # Initialize SW potential for silicon\n",
    "        self.__set_lattice_params(struct_name)\n",
    "        self.__set_name_and_number(struct_name)\n",
    "        self.struct = self.__build_structure(shape=shape)\n",
    "        self.length = self.struct.shape[0]"
   ]
  },
  {
   "cell_type": "markdown",
   "id": "c1b9f28b-4c50-469f-a40a-c55c82905b59",
   "metadata": {},
   "source": [
    "## Examples of usage"
   ]
  },
  {
   "cell_type": "markdown",
   "id": "33f8e561-8436-4075-8447-482717ce96f4",
   "metadata": {},
   "source": [
    "### Diamond"
   ]
  },
  {
   "cell_type": "code",
   "execution_count": 12,
   "id": "2e3e99cc-7c74-4338-a697-ef0fc23151b6",
   "metadata": {
    "execution": {
     "iopub.execute_input": "2023-06-16T12:23:55.277503Z",
     "iopub.status.busy": "2023-06-16T12:23:55.277503Z",
     "iopub.status.idle": "2023-06-16T12:23:55.287634Z",
     "shell.execute_reply": "2023-06-16T12:23:55.286674Z",
     "shell.execute_reply.started": "2023-06-16T12:23:55.277503Z"
    },
    "tags": []
   },
   "outputs": [],
   "source": [
    "dm = DiamondStructure(shape=(2,2,2), struct_name='diamond')  # 64 atoms\n",
    "# Below you can see how it looks like in Chemcraft"
   ]
  },
  {
   "attachments": {
    "254a39b3-61bc-4c0c-b7b8-eaa17c3ec068.png": {
     "image/png": "[encoded data removed]"
    }
   },
   "cell_type": "markdown",
   "id": "eff9f894-54fb-4e22-8654-e0f84d85501a",
   "metadata": {},
   "source": [
    "![image.png](attachment:254a39b3-61bc-4c0c-b7b8-eaa17c3ec068.png)"
   ]
  },
  {
   "cell_type": "code",
   "execution_count": 32,
   "id": "f8d634e4-1092-4a9f-b8b1-6f17bbf691fa",
   "metadata": {
    "execution": {
     "iopub.execute_input": "2023-06-16T10:51:52.302892Z",
     "iopub.status.busy": "2023-06-16T10:51:52.302892Z",
     "iopub.status.idle": "2023-06-16T10:51:52.310871Z",
     "shell.execute_reply": "2023-06-16T10:51:52.309873Z",
     "shell.execute_reply.started": "2023-06-16T10:51:52.302892Z"
    },
    "tags": []
   },
   "outputs": [],
   "source": [
    "dm.output_txt_coords(filename=None, show_atom_number=False) # Output coords as 'C64.txt' in not_gamess_data/output_coords"
   ]
  },
  {
   "cell_type": "code",
   "execution_count": 33,
   "id": "0a83b772-5dfc-4458-a803-a05ce6cf8faa",
   "metadata": {
    "execution": {
     "iopub.execute_input": "2023-06-16T10:51:52.549744Z",
     "iopub.status.busy": "2023-06-16T10:51:52.549744Z",
     "iopub.status.idle": "2023-06-16T10:51:52.575674Z",
     "shell.execute_reply": "2023-06-16T10:51:52.574709Z",
     "shell.execute_reply.started": "2023-06-16T10:51:52.549744Z"
    },
    "tags": []
   },
   "outputs": [
    {
     "data": {
      "text/html": [
       "<div>\n",
       "<style scoped>\n",
       "    .dataframe tbody tr th:only-of-type {\n",
       "        vertical-align: middle;\n",
       "    }\n",
       "\n",
       "    .dataframe tbody tr th {\n",
       "        vertical-align: top;\n",
       "    }\n",
       "\n",
       "    .dataframe thead th {\n",
       "        text-align: right;\n",
       "    }\n",
       "</style>\n",
       "<table border=\"1\" class=\"dataframe\">\n",
       "  <thead>\n",
       "    <tr style=\"text-align: right;\">\n",
       "      <th></th>\n",
       "      <th>Elem</th>\n",
       "      <th>x</th>\n",
       "      <th>y</th>\n",
       "      <th>z</th>\n",
       "    </tr>\n",
       "  </thead>\n",
       "  <tbody>\n",
       "    <tr>\n",
       "      <th>0</th>\n",
       "      <td>C</td>\n",
       "      <td>0.00000</td>\n",
       "      <td>0.00000</td>\n",
       "      <td>0.00000</td>\n",
       "    </tr>\n",
       "    <tr>\n",
       "      <th>1</th>\n",
       "      <td>C</td>\n",
       "      <td>0.89175</td>\n",
       "      <td>0.89175</td>\n",
       "      <td>0.89175</td>\n",
       "    </tr>\n",
       "    <tr>\n",
       "      <th>2</th>\n",
       "      <td>C</td>\n",
       "      <td>1.78350</td>\n",
       "      <td>1.78350</td>\n",
       "      <td>0.00000</td>\n",
       "    </tr>\n",
       "    <tr>\n",
       "      <th>3</th>\n",
       "      <td>C</td>\n",
       "      <td>2.67525</td>\n",
       "      <td>2.67525</td>\n",
       "      <td>0.89175</td>\n",
       "    </tr>\n",
       "    <tr>\n",
       "      <th>4</th>\n",
       "      <td>C</td>\n",
       "      <td>1.78350</td>\n",
       "      <td>0.00000</td>\n",
       "      <td>1.78350</td>\n",
       "    </tr>\n",
       "    <tr>\n",
       "      <th>...</th>\n",
       "      <td>...</td>\n",
       "      <td>...</td>\n",
       "      <td>...</td>\n",
       "      <td>...</td>\n",
       "    </tr>\n",
       "    <tr>\n",
       "      <th>59</th>\n",
       "      <td>C</td>\n",
       "      <td>6.24225</td>\n",
       "      <td>6.24225</td>\n",
       "      <td>4.45875</td>\n",
       "    </tr>\n",
       "    <tr>\n",
       "      <th>60</th>\n",
       "      <td>C</td>\n",
       "      <td>5.35050</td>\n",
       "      <td>3.56700</td>\n",
       "      <td>5.35050</td>\n",
       "    </tr>\n",
       "    <tr>\n",
       "      <th>61</th>\n",
       "      <td>C</td>\n",
       "      <td>3.56700</td>\n",
       "      <td>5.35050</td>\n",
       "      <td>5.35050</td>\n",
       "    </tr>\n",
       "    <tr>\n",
       "      <th>62</th>\n",
       "      <td>C</td>\n",
       "      <td>6.24225</td>\n",
       "      <td>4.45875</td>\n",
       "      <td>6.24225</td>\n",
       "    </tr>\n",
       "    <tr>\n",
       "      <th>63</th>\n",
       "      <td>C</td>\n",
       "      <td>4.45875</td>\n",
       "      <td>6.24225</td>\n",
       "      <td>6.24225</td>\n",
       "    </tr>\n",
       "  </tbody>\n",
       "</table>\n",
       "<p>64 rows × 4 columns</p>\n",
       "</div>"
      ],
      "text/plain": [
       "   Elem        x        y        z\n",
       "0     C  0.00000  0.00000  0.00000\n",
       "1     C  0.89175  0.89175  0.89175\n",
       "2     C  1.78350  1.78350  0.00000\n",
       "3     C  2.67525  2.67525  0.89175\n",
       "4     C  1.78350  0.00000  1.78350\n",
       "..  ...      ...      ...      ...\n",
       "59    C  6.24225  6.24225  4.45875\n",
       "60    C  5.35050  3.56700  5.35050\n",
       "61    C  3.56700  5.35050  5.35050\n",
       "62    C  6.24225  4.45875  6.24225\n",
       "63    C  4.45875  6.24225  6.24225\n",
       "\n",
       "[64 rows x 4 columns]"
      ]
     },
     "execution_count": 33,
     "metadata": {},
     "output_type": "execute_result"
    }
   ],
   "source": [
    "dm.get_pd_coords(show_atom_number=False) # pandas DataFrame"
   ]
  },
  {
   "cell_type": "markdown",
   "id": "932e05c1-cfdc-4550-90bc-a265d59eed2c",
   "metadata": {},
   "source": [
    "### Silicon"
   ]
  },
  {
   "cell_type": "code",
   "execution_count": 43,
   "id": "d11403e3-9188-46ba-ac07-5e584811026c",
   "metadata": {
    "execution": {
     "iopub.execute_input": "2023-06-16T12:50:21.509864Z",
     "iopub.status.busy": "2023-06-16T12:50:21.509864Z",
     "iopub.status.idle": "2023-06-16T12:50:21.518840Z",
     "shell.execute_reply": "2023-06-16T12:50:21.518840Z",
     "shell.execute_reply.started": "2023-06-16T12:50:21.509864Z"
    },
    "tags": []
   },
   "outputs": [],
   "source": [
    "sc = DiamondStructure(shape=(2,2,2), struct_name='silicon')"
   ]
  },
  {
   "cell_type": "code",
   "execution_count": 45,
   "id": "855cd0d2-1850-4589-804e-a36173f040d5",
   "metadata": {
    "execution": {
     "iopub.execute_input": "2023-06-16T12:50:32.418015Z",
     "iopub.status.busy": "2023-06-16T12:50:32.417018Z",
     "iopub.status.idle": "2023-06-16T12:50:32.505693Z",
     "shell.execute_reply": "2023-06-16T12:50:32.504561Z",
     "shell.execute_reply.started": "2023-06-16T12:50:32.418015Z"
    },
    "tags": []
   },
   "outputs": [],
   "source": [
    "pot_before_relax = sc.calc_pot(sc.struct)/sc.length"
   ]
  },
  {
   "cell_type": "code",
   "execution_count": 46,
   "id": "8e034f7d-f073-454a-ad6f-afb1b44efab7",
   "metadata": {
    "execution": {
     "iopub.execute_input": "2023-06-16T12:50:33.136027Z",
     "iopub.status.busy": "2023-06-16T12:50:33.136027Z",
     "iopub.status.idle": "2023-06-16T12:50:37.143903Z",
     "shell.execute_reply": "2023-06-16T12:50:37.143108Z",
     "shell.execute_reply.started": "2023-06-16T12:50:33.136027Z"
    },
    "tags": []
   },
   "outputs": [
    {
     "name": "stdout",
     "output_type": "stream",
     "text": [
      "Iteration: 0, alpha: 0.005\n",
      "AVG Force Before step:  0.02639704211766973\n",
      "\n",
      "Iteration: 1, alpha: 0.004256699612603923\n",
      "AVG Force Before step:  0.024612759353839858\n",
      "\n",
      "Iteration: 2, alpha: 0.003623898318388478\n",
      "AVG Force Before step:  0.023344092052793544\n",
      "\n",
      "Iteration: 3, alpha: 0.003085169313600048\n",
      "AVG Force Before step:  0.02240503011091422\n",
      "\n",
      "Iteration: 4, alpha: 0.002626527804403767\n",
      "AVG Force Before step:  0.021696999876916756\n",
      "\n",
      "Iteration: 5, alpha: 0.00223606797749979\n",
      "AVG Force Before step:  0.021104186716532827\n",
      "\n",
      "Iteration: 6, alpha: 0.0019036539387158786\n",
      "AVG Force Before step:  0.02063506152076628\n",
      "\n",
      "Iteration: 7, alpha: 0.0016206565966927623\n",
      "AVG Force Before step:  0.020259362024895672\n",
      "\n",
      "Iteration: 8, alpha: 0.001379729661461215\n",
      "AVG Force Before step:  0.019955468419530564\n",
      "\n",
      "Iteration: 9, alpha: 0.001174618943088019\n",
      "AVG Force Before step:  0.019707657179617658\n",
      "\n"
     ]
    }
   ],
   "source": [
    "sc.relax(iterations=10, TOL=0.01, start_alpha=5e-3, end_alpha=1e-3)"
   ]
  },
  {
   "cell_type": "code",
   "execution_count": 50,
   "id": "da6594d9-9068-46a6-b016-e37e1189f5f8",
   "metadata": {
    "execution": {
     "iopub.execute_input": "2023-06-16T12:52:23.947173Z",
     "iopub.status.busy": "2023-06-16T12:52:23.947173Z",
     "iopub.status.idle": "2023-06-16T12:52:24.038346Z",
     "shell.execute_reply": "2023-06-16T12:52:24.037383Z",
     "shell.execute_reply.started": "2023-06-16T12:52:23.947173Z"
    },
    "tags": []
   },
   "outputs": [
    {
     "name": "stdout",
     "output_type": "stream",
     "text": [
      "SW potential before relaxation: -2.913493295739339, after: -2.9135074152769525\n",
      "Difference: -0.0005%\n"
     ]
    }
   ],
   "source": [
    "pot_after_relax = sc.calc_pot(sc.struct)/sc.length\n",
    "print(f'SW potential before relaxation: {pot_before_relax}, after: {pot_after_relax}')\n",
    "print(f'Difference: {round((pot_before_relax-pot_after_relax)/pot_before_relax*100, 4)}%')"
   ]
  },
  {
   "cell_type": "markdown",
   "id": "4b4f0d6f-3755-41f5-9e8f-3d843e29722c",
   "metadata": {},
   "source": [
    "# FullereneStructure"
   ]
  },
  {
   "cell_type": "markdown",
   "id": "7b159060-7f4e-46bc-8314-800a1179544f",
   "metadata": {},
   "source": [
    "## Fullerene class definition"
   ]
  },
  {
   "cell_type": "code",
   "execution_count": 51,
   "id": "eff9a2b2-c266-4b08-bfe7-d2a1b0f75230",
   "metadata": {
    "execution": {
     "iopub.execute_input": "2023-06-16T12:52:44.238293Z",
     "iopub.status.busy": "2023-06-16T12:52:44.237296Z",
     "iopub.status.idle": "2023-06-16T12:52:44.271205Z",
     "shell.execute_reply": "2023-06-16T12:52:44.270208Z",
     "shell.execute_reply.started": "2023-06-16T12:52:44.238293Z"
    },
    "tags": []
   },
   "outputs": [],
   "source": [
    "class Fullerene(StillingerWeber, Atoms):\n",
    "    \n",
    "    def __set_name_and_number(self) -> None:\n",
    "        \"\"\"\n",
    "        Function set name of atom and number\n",
    "        \"\"\"\n",
    "        self.atom_name = 'C'\n",
    "        self.atom_num = 6\n",
    "    \n",
    "    @staticmethod\n",
    "    def __extract_coords(filepath='C20.out'):\n",
    "        \"\"\"\n",
    "        Method extracts final coordinates and energy from file after\n",
    "        relaxations in GAMESS and returns tuple with string divided by '\\n' for every\n",
    "        atom and energy value\n",
    "        \"\"\"\n",
    "        with open(filepath, 'r') as f:\n",
    "            file = f.read()\n",
    "        if len(file):\n",
    "            start = file.find('***** EQUILIBRIUM GEOMETRY LOCATED *****')\n",
    "            if start == -1:\n",
    "                raise ValueError('Algorithm has not converged')\n",
    "            splitted = file[start:].split('\\n')\n",
    "        filename = filepath.split('/')[-1][:-4]\n",
    "        if '-' in filename:\n",
    "            n_atoms = int(filename[1: filename.find('-')])\n",
    "        else:\n",
    "            n_atoms = int(filename[1:])\n",
    "        coords = '\\n'.join(splitted[4:n_atoms+4])\n",
    "        energy_idx = file[start:].find('TOTAL ENERGY')\n",
    "        energy = float(file[start:][energy_idx : file[start:].find('\\n', energy_idx)].split(' ')[-1])\n",
    "        return coords, energy\n",
    "        \n",
    "    def __build_struct(self, filepath='coords.txt', skiprows=2, file_from='web', \n",
    "                struct_type='numpy'):\n",
    "        \"\"\"\n",
    "        Method builds structure of fullerene. First case - file from website,\n",
    "        Second case - file from GAMESS output file.\n",
    "        \n",
    "            :param filepath: path to file with coordinates (or with output from GAMESS)\n",
    "            :param skiprows: define how much rows needed to be skipped in parsing file from web\n",
    "            :param file_from: 'web' or 'gamess_out_file'\n",
    "            :param struct_type: 'numpy' or 'list'\n",
    "        \"\"\"\n",
    "        coordinates = []\n",
    "        if file_from == 'web':\n",
    "            with open(filepath, 'r') as f:\n",
    "                j = 0\n",
    "                for row in f:\n",
    "                    if j >= skiprows:\n",
    "                        items = [item.strip() for item in row.split(' ') if item.strip()]\n",
    "                        coordinates += [items[1:4]]\n",
    "                    j += 1\n",
    "                    \n",
    "        elif file_from == 'gamess_out_file':\n",
    "            string_coords, energy = self.__extract_coords(filepath)\n",
    "            self.energy = energy            \n",
    "            j = 0\n",
    "            for row in string_coords.split('\\n'):\n",
    "                items = [item.strip() for item in row.split(' ') if item.strip() and item.strip() != '6.0']\n",
    "                coordinates += [items[1:4]]\n",
    "                j += 1\n",
    "                \n",
    "        coordinates = [[float(coord) for coord in item] for item in coordinates]\n",
    "        \n",
    "        if struct_type == 'numpy':\n",
    "            self.struct = np.array(coordinates)\n",
    "        elif struct_type == 'list':\n",
    "            self.struct = coordinates\n",
    "    \n",
    "    def gen_input_by_template(self, output_path='data.txt', \n",
    "                              template_path='gamess_data/templates/default.inp') -> None:\n",
    "        \"\"\"\n",
    "        Method fill coordinates in template and creates input file for GAMESS\n",
    "        \n",
    "            :param output_path: path to result of generating file by the template\n",
    "            :param template_path: path to template to fill in\n",
    "        \"\"\"\n",
    "        \n",
    "        with open(template_path, 'r') as f:\n",
    "            template = f.read()\n",
    "        \n",
    "        if not len(template):\n",
    "            raise OSError('template file is empty')\n",
    "        \n",
    "        coords = ''\n",
    "        for i in range(len(self.struct)):\n",
    "            coords += self.atom_name + '\\t' + str(float(self.atom_num)) + '\\t' \\\n",
    "                + str(self.struct[i][0]) + '\\t' + str(self.struct[i][1]) \\\n",
    "                + '\\t' + str(self.struct[i][2]) + '\\n'\n",
    "        \n",
    "        splitted_text = template.split('\\n')\n",
    "        title = splitted_text[-3].replace('C20', self.atom_name + str(int(len(self.struct))))\n",
    "        new_text = '\\n'.join(splitted_text[:-3]) + '\\n' + title + '\\n' + 'C1' + '\\n' + coords + splitted_text[-1] \n",
    "        \n",
    "        with open(output_path, 'w') as out:\n",
    "            out.write(new_text)\n",
    "    \n",
    "    def __init__(self, filepath='coords.txt', skiprows=2, file_from='web', \n",
    "                struct_type='numpy'):\n",
    "        \"\"\"\n",
    "            :param file_from: \n",
    "                'web' - create structure from downloaded coords,\n",
    "                'gamess_out_file' - create structure from output of GAMESS\n",
    "            :param filepath: path of the file with coordinates\n",
    "            :param skiprows: is used when file_from == 'web', because it is needed to skip\n",
    "                some rows (name or something like this) to create correct coords\n",
    "        \"\"\"\n",
    "        super().__init__(struct_name='fullerene') # Initialize SW potential for fullerene\n",
    "        self.__set_name_and_number()\n",
    "        self.__build_struct(filepath=filepath, skiprows=skiprows, file_from=file_from, \n",
    "                struct_type=struct_type)\n",
    "            \n",
    "        self.length = len(self.struct)"
   ]
  },
  {
   "cell_type": "markdown",
   "id": "0c45dbfb-cc7a-4a67-846e-aa8b5f44a82d",
   "metadata": {},
   "source": [
    "## Examples of usage"
   ]
  },
  {
   "cell_type": "markdown",
   "id": "d931f701-4ebb-42d0-ad66-4e39bb85ba67",
   "metadata": {},
   "source": [
    "### Creating fullerene"
   ]
  },
  {
   "cell_type": "code",
   "execution_count": 74,
   "id": "bfbf8f1f-aa4f-49c6-bff5-728eb23007c6",
   "metadata": {
    "execution": {
     "iopub.execute_input": "2023-06-16T13:02:41.225206Z",
     "iopub.status.busy": "2023-06-16T13:02:41.224184Z",
     "iopub.status.idle": "2023-06-16T13:02:41.237688Z",
     "shell.execute_reply": "2023-06-16T13:02:41.236725Z",
     "shell.execute_reply.started": "2023-06-16T13:02:41.225206Z"
    },
    "tags": []
   },
   "outputs": [],
   "source": [
    "fln1 = Fullerene(filepath='not_gamess_data/web_coordinates/C36-C2-1.xyz', skiprows=2, file_from='web', struct_type='numpy')\n",
    "fln2 = Fullerene(filepath='gamess_data/output_data/C36-C2-1.out', file_from='gamess_out_file')"
   ]
  },
  {
   "cell_type": "code",
   "execution_count": 83,
   "id": "088934fa-b12c-4029-9bb5-797460d9939b",
   "metadata": {
    "execution": {
     "iopub.execute_input": "2023-06-16T13:04:00.556166Z",
     "iopub.status.busy": "2023-06-16T13:04:00.555169Z",
     "iopub.status.idle": "2023-06-16T13:04:00.925054Z",
     "shell.execute_reply": "2023-06-16T13:04:00.924088Z",
     "shell.execute_reply.started": "2023-06-16T13:04:00.556166Z"
    },
    "tags": []
   },
   "outputs": [
    {
     "name": "stdout",
     "output_type": "stream",
     "text": [
      "Web data energy with SW pot:  -142.32819066712304\n",
      "GAMESS data energy with SW pot:  -156.5355715667391\n",
      "GAMESS data energy:  -155.5365615254\n"
     ]
    }
   ],
   "source": [
    "old_energy1 = fln1.calc_pot(fln1.struct)\n",
    "old_energy2 = fln2.calc_pot(fln2.struct)\n",
    "print('Web data energy with SW pot: ', fln1.calc_pot(fln1.struct))\n",
    "print('GAMESS data energy with SW pot: ', fln2.calc_pot(fln2.struct))\n",
    "print('GAMESS data energy: ', fln2.energy)"
   ]
  },
  {
   "cell_type": "markdown",
   "id": "7d1770ee-403a-45bd-aea7-f22e7d8d5b54",
   "metadata": {},
   "source": [
    "### Optimizing params with fullerene"
   ]
  },
  {
   "cell_type": "code",
   "execution_count": 84,
   "id": "d25ff2a5-622d-472e-8da2-4faab5df475d",
   "metadata": {
    "execution": {
     "iopub.execute_input": "2023-06-16T13:04:01.824822Z",
     "iopub.status.busy": "2023-06-16T13:04:01.824822Z",
     "iopub.status.idle": "2023-06-16T13:04:12.604939Z",
     "shell.execute_reply": "2023-06-16T13:04:12.603974Z",
     "shell.execute_reply.started": "2023-06-16T13:04:01.824822Z"
    },
    "tags": []
   },
   "outputs": [
    {
     "name": "stdout",
     "output_type": "stream",
     "text": [
      "\n",
      "ITERATION:  0\n",
      "GRADIENT:  1173.2008521702846\n",
      "PARAMS VECTOR:  [ 2.16376271  7.05471636  0.21584245  1.70666882  3.9651871   1.67952818\n",
      " 20.997803    1.36300948 -0.26969633]\n",
      "TIME TAKEN:  1.561 s\n",
      "\n",
      "ITERATION:  1\n",
      "GRADIENT:  1092.2433888112566\n",
      "PARAMS VECTOR:  [ 2.16374826  7.05471115  0.2159414   1.70668293  3.9651905   1.67947377\n",
      " 20.99780326  1.36298574 -0.26969477]\n",
      "TIME TAKEN:  1.529 s\n",
      "\n",
      "ITERATION:  2\n",
      "GRADIENT:  1016.8832116486418\n",
      "PARAMS VECTOR:  [ 2.1637348   7.05470631  0.21603352  1.70669609  3.96519366  1.67942312\n",
      " 20.9978035   1.36296365 -0.26969331]\n",
      "TIME TAKEN:  1.556 s\n",
      "\n",
      "ITERATION:  3\n",
      "GRADIENT:  946.7344004277662\n",
      "PARAMS VECTOR:  [ 2.16372228  7.0547018   0.21611929  1.70670835  3.96519661  1.67937596\n",
      " 20.99780373  1.36294309 -0.26969195]\n",
      "TIME TAKEN:  1.525 s\n",
      "\n",
      "ITERATION:  4\n",
      "GRADIENT:  881.4339946284471\n",
      "PARAMS VECTOR:  [ 2.16371063  7.0546976   0.21619913  1.70671979  3.96519935  1.67933205\n",
      " 20.99780394  1.36292395 -0.26969068]\n",
      "TIME TAKEN:  1.502 s\n",
      "\n",
      "ITERATION:  5\n",
      "GRADIENT:  820.6443645613276\n",
      "PARAMS VECTOR:  [ 2.16369979  7.0546937   0.21627348  1.70673045  3.96520191  1.67929117\n",
      " 20.99780413  1.36290615 -0.26968949]\n",
      "TIME TAKEN:  1.559 s\n",
      "\n",
      "ITERATION:  6\n",
      "GRADIENT:  764.0538881029889\n",
      "PARAMS VECTOR:  [ 2.16368969  7.05469006  0.21634269  1.70674038  3.96520429  1.67925311\n",
      " 20.99780431  1.36288958 -0.26968839]\n",
      "TIME TAKEN:  1.529 s\n",
      "\n",
      "OVERALL TIME TAKEN:  10.76\n"
     ]
    }
   ],
   "source": [
    "old_params = fln2.params\n",
    "fln2.optimize_params_for_fullerene(X=np.array([fln2.struct]), y=np.array([fln2.energy]), iterations=10, TOL=8e2)"
   ]
  },
  {
   "cell_type": "code",
   "execution_count": 85,
   "id": "63313834-4478-415b-83eb-b7d6139dec4e",
   "metadata": {
    "execution": {
     "iopub.execute_input": "2023-06-16T13:04:12.606934Z",
     "iopub.status.busy": "2023-06-16T13:04:12.606934Z",
     "iopub.status.idle": "2023-06-16T13:04:12.795765Z",
     "shell.execute_reply": "2023-06-16T13:04:12.794764Z",
     "shell.execute_reply.started": "2023-06-16T13:04:12.606934Z"
    },
    "tags": []
   },
   "outputs": [],
   "source": [
    "new_energy1 = fln1.calc_pot(fln1.struct)\n",
    "new_energy2 = fln2.calc_pot(fln2.struct)"
   ]
  },
  {
   "cell_type": "code",
   "execution_count": 87,
   "id": "0e99393c-76c8-43e6-994d-29b9fe2deb7e",
   "metadata": {
    "execution": {
     "iopub.execute_input": "2023-06-16T13:04:40.881092Z",
     "iopub.status.busy": "2023-06-16T13:04:40.881092Z",
     "iopub.status.idle": "2023-06-16T13:04:40.891066Z",
     "shell.execute_reply": "2023-06-16T13:04:40.891066Z",
     "shell.execute_reply.started": "2023-06-16T13:04:40.881092Z"
    },
    "tags": []
   },
   "outputs": [
    {
     "name": "stdout",
     "output_type": "stream",
     "text": [
      "Web data energy with SW pot before:  -142.3282  after:  -142.3282\n",
      "GAMESS data energy with SW pot before:  -156.54  after:  -156.14\n",
      "GAMESS data energy:  -155.5365615254\n",
      "Change in parameters:  [ 8.24125930e-05  2.96818786e-05 -5.64682718e-04 -8.08190105e-05\n",
      " -1.94111561e-05  3.10503797e-04 -1.47990037e-06  1.35325388e-04\n",
      " -8.97160679e-06]\n"
     ]
    }
   ],
   "source": [
    "print('Web data energy with SW pot before: ', round(old_energy1, 4), ' after: ', round(new_energy1,4))\n",
    "print('GAMESS data energy with SW pot before: ', round(old_energy2, 2), ' after: ',  round(new_energy2,2))\n",
    "print('GAMESS data energy: ', fln2.energy)\n",
    "print('Change in parameters: ', old_params - fln2.params)"
   ]
  },
  {
   "cell_type": "markdown",
   "id": "6597003b-6f96-41d6-96f5-dfd7415d5d89",
   "metadata": {},
   "source": [
    "# Gamess class"
   ]
  },
  {
   "cell_type": "code",
   "execution_count": 28,
   "id": "896b540c-3e22-4010-b3c1-6283a223f33c",
   "metadata": {
    "execution": {
     "iopub.execute_input": "2023-06-16T12:46:02.765316Z",
     "iopub.status.busy": "2023-06-16T12:46:02.765316Z",
     "iopub.status.idle": "2023-06-16T12:46:02.785776Z",
     "shell.execute_reply": "2023-06-16T12:46:02.784778Z",
     "shell.execute_reply.started": "2023-06-16T12:46:02.765316Z"
    },
    "tags": []
   },
   "outputs": [],
   "source": [
    "class Gamess:\n",
    "    \"\"\"\n",
    "        Class for preparing inputs for GAMESS and running the GAMESS\n",
    "    \"\"\"\n",
    "    def generate_all_inputs(self, dir_path='gamess_data/inputs',\n",
    "                            template_path='gamess_data/templates/default.inp',\n",
    "                            web_coords_path='not_gamess_data/web_coordinates'):\n",
    "        \"\"\"\n",
    "            Method generates inputs for GAMESS for all files in folder dir_path \n",
    "            (with template from template_path)\n",
    "        \"\"\"\n",
    "        \n",
    "        fln_files = os.listdir(web_coords_path)\n",
    "        for file in fln_files:\n",
    "            fln = Fullerene(web_coords_path + file, file_from='web')\n",
    "            fln.gen_input_by_template(output_path=os.path.join(dir_path, file[:-4] +'.inp'), template_path=template_path)\n",
    "                                       \n",
    "    def run_gamess(self, gamess_path='C:\\\\Users\\Public\\gamess-64'):\n",
    "        \"\"\"\n",
    "            Method runs GAMESS program\n",
    "        \"\"\"\n",
    "        initial_dir = os.getcwd()\n",
    "        try:\n",
    "            os.chdir(gamess_path)\n",
    "            input_files = os.listdir('inputs')\n",
    "            for inp in input_files:\n",
    "                print('running ', inp)\n",
    "                if inp != 'README.txt':\n",
    "                    os.system('rungms.bat ' + os.path.join('inputs', inp) + ' 2022.R2.intel 2 ' \\\n",
    "                          + os.path.join('outputs', inp[:-4]) + '.out')\n",
    "        except Exception as e:\n",
    "            print('Something went wrong')\n",
    "            print(e)\n",
    "        finally:\n",
    "            os.chdir(initial_dir)"
   ]
  },
  {
   "cell_type": "markdown",
   "id": "1f823db0-8e51-47f9-a699-493c484a2904",
   "metadata": {
    "tags": []
   },
   "source": [
    "## Examples of usage"
   ]
  },
  {
   "cell_type": "code",
   "execution_count": 9,
   "id": "0dfaae9b-354b-4094-8983-f18808673fe9",
   "metadata": {
    "execution": {
     "iopub.execute_input": "2023-05-27T18:09:54.005805Z",
     "iopub.status.busy": "2023-05-27T18:09:54.004811Z",
     "iopub.status.idle": "2023-05-27T18:11:32.988532Z",
     "shell.execute_reply": "2023-05-27T18:11:32.987526Z",
     "shell.execute_reply.started": "2023-05-27T18:09:54.005805Z"
    },
    "tags": []
   },
   "outputs": [
    {
     "name": "stdout",
     "output_type": "stream",
     "text": [
      "running  C36-C2-1.inp\n",
      "running  C36-C2-11.inp\n",
      "running  C36-D3h-13.inp\n",
      "running  C40-C2-18.inp\n",
      "running  C40-C3v-20.inp\n",
      "running  C40-D2-3.inp\n",
      "running  C40-D5d-1.inp\n",
      "running  C44-C2-1.inp\n",
      "running  C44-C2-12.inp\n",
      "running  C44-C2-20.inp\n",
      "running  C48-C1-21.inp\n",
      "running  C48-C2-1.inp\n",
      "running  C52-C2-1.inp\n",
      "running  C52-C2-5.inp\n",
      "running  C70-D5h.inp\n",
      "running  C76-D2.inp\n",
      "running  README.txt\n",
      "time: 1min 38s (started: 2023-05-27 21:09:54 +03:00)\n"
     ]
    }
   ],
   "source": [
    "gm = Gamess()\n",
    "gm.generate_all_inputs()\n",
    "gm.run_gamess()"
   ]
  },
  {
   "cell_type": "markdown",
   "id": "85cc16bc-b94c-4842-bb3f-cabf8ee15600",
   "metadata": {},
   "source": [
    "# Some other results"
   ]
  },
  {
   "cell_type": "markdown",
   "id": "2b3c3c99-3be1-4a3d-a53b-f51955b385b0",
   "metadata": {},
   "source": [
    "## Fullerene parameters for SW potential for Diamond structure"
   ]
  },
  {
   "cell_type": "code",
   "execution_count": 36,
   "id": "b5b1a8fd-65e0-4486-8c63-202590886a48",
   "metadata": {
    "execution": {
     "iopub.execute_input": "2023-05-27T21:13:38.020719Z",
     "iopub.status.busy": "2023-05-27T21:13:38.019722Z",
     "iopub.status.idle": "2023-05-27T21:41:16.651851Z",
     "shell.execute_reply": "2023-05-27T21:41:16.651851Z",
     "shell.execute_reply.started": "2023-05-27T21:13:38.020719Z"
    },
    "tags": []
   },
   "outputs": [
    {
     "name": "stdout",
     "output_type": "stream",
     "text": [
      "Shape: (0,0,0)  -20.92 -2.61\n",
      "Shape: (1,1,1)  -20.92 -2.61\n",
      "Shape: (2,2,2)  -261.07 -4.08\n",
      "Shape: (3,3,3)  -1013.66 -4.69\n",
      "Shape: (4,4,4)  -2571.74 -5.02\n",
      "Shape: (5,5,5)  -5228.4 -5.23\n",
      "Shape: (6,6,6)  -9276.69 -5.37\n",
      "Shape: (7,7,7)  -15009.69 -5.47\n",
      "time: 27min 38s (started: 2023-05-28 00:13:38 +03:00)\n"
     ]
    }
   ],
   "source": [
    "df = pd.DataFrame({\n",
    "    'config': ['' for i in range(8)],\n",
    "    'pot': [0 for i in range(8)],\n",
    "    'atom_pot': [0 for i in range(8)],\n",
    "})\n",
    "for i in range(8):\n",
    "    sc = DiamondStructure(shape=(i, i, i), struct_name='diamond')\n",
    "    pot_sc = sc.calc_pot(sc.struct)\n",
    "    df.loc[i, 'config'] = f'{i}x{i},{i}'\n",
    "    df.loc[i, 'pot'] = pot_sc\n",
    "    df.loc[i, 'atom_pot'] = pot_sc/sc.length\n",
    "    print(f'Shape: ({i},{i},{i}) ', round(pot_sc, 2), round(pot_sc/sc.length, 2))"
   ]
  },
  {
   "cell_type": "code",
   "execution_count": 37,
   "id": "3f2fb717-6f65-4221-8989-fa2044dec992",
   "metadata": {
    "execution": {
     "iopub.execute_input": "2023-05-27T21:42:53.108397Z",
     "iopub.status.busy": "2023-05-27T21:42:53.107396Z",
     "iopub.status.idle": "2023-05-27T21:42:54.750198Z",
     "shell.execute_reply": "2023-05-27T21:42:54.750198Z",
     "shell.execute_reply.started": "2023-05-27T21:42:53.108397Z"
    },
    "tags": []
   },
   "outputs": [
    {
     "name": "stdout",
     "output_type": "stream",
     "text": [
      "time: 1.61 s (started: 2023-05-28 00:42:53 +03:00)\n"
     ]
    }
   ],
   "source": [
    "df.to_excel('other_data/diamond.xlsx', index=False)"
   ]
  },
  {
   "cell_type": "markdown",
   "id": "3ee43280-cc61-435b-9f7b-5d3975be1063",
   "metadata": {},
   "source": [
    "## Comparision between GAMESS and SW"
   ]
  },
  {
   "cell_type": "code",
   "execution_count": 88,
   "id": "d469a589-90af-4bbb-8d53-53f9df72f24e",
   "metadata": {
    "execution": {
     "iopub.execute_input": "2023-06-16T13:11:01.399199Z",
     "iopub.status.busy": "2023-06-16T13:11:01.398202Z",
     "iopub.status.idle": "2023-06-16T13:11:08.099677Z",
     "shell.execute_reply": "2023-06-16T13:11:08.099677Z",
     "shell.execute_reply.started": "2023-06-16T13:11:01.399199Z"
    },
    "tags": []
   },
   "outputs": [
    {
     "name": "stdout",
     "output_type": "stream",
     "text": [
      "-409.46697267548956 -434.2547783745 %:  5.7\n",
      "-108.38924185800283 -103.4005536286 %:  -4.8\n",
      "-116.25465504205464 -112.0853372183 %:  -3.7\n",
      "-124.27881630753105 -120.7858857245 %:  -2.9\n",
      "-123.84028235404485 -120.7943822015 %:  -2.5\n",
      "-132.15049552746444 -129.4907296771 %:  -2.1\n",
      "-131.64777265962078 -129.5145620236 %:  -1.6\n",
      "-133.52842381950788 -129.4129122439 %:  -3.2\n",
      "-140.3869479974244 -138.1689078749 %:  -1.6\n",
      "-139.78145580499302 -138.1987903156 %:  -1.1\n",
      "-140.80058150384357 -138.1503482644 %:  -1.9\n",
      "-139.6758534264674 -138.2373639969 %:  -1.0\n",
      "-141.07751203072243 -138.1322308911 %:  -2.1\n",
      "-140.07759696563147 -138.1226078183 %:  -1.4\n",
      "-156.5355715667391 -155.5365615254 %:  -0.6\n",
      "-155.78792282929908 -155.6070235424 %:  -0.1\n",
      "-156.25255542062666 -155.5557745786 %:  -0.4\n",
      "-171.71160933530592 -172.9194882173 %:  0.7\n",
      "-171.74659090506307 -172.9505557709 %:  0.7\n",
      "-174.39801846792216 -172.7911417407 %:  -0.9\n",
      "-175.6425712264899 -172.7381115961 %:  -1.7\n",
      "-189.67344086397097 -190.2198710739 %:  0.3\n",
      "-188.49736716341116 -190.2529478118 %:  0.9\n",
      "-188.44441043809604 -190.3248733957 %:  1.0\n",
      "-204.50794943290472 -207.733951366 %:  1.6\n",
      "-206.50770533654045 -207.5661815992 %:  0.5\n",
      "-222.84190657845056 -224.9378770869 %:  0.9\n",
      "-222.12451159121042 -224.9827827341 %:  1.3\n",
      "-248.92781507020342 -260.300833084 %:  4.4\n",
      "-288.2581457338116 -303.7844950103 %:  5.1\n",
      "-312.0805170942406 -329.8642182655 %:  5.4\n",
      "-328.56897538419463 -347.2655888763 %:  5.4\n",
      "-369.0886060685117 -390.7765964755 %:  5.5\n"
     ]
    }
   ],
   "source": [
    "X = []\n",
    "y = []\n",
    "dir_list = os.listdir('gamess_data/output_data/')\n",
    "for file in dir_list:\n",
    "    fln = Fullerene(filepath='gamess_data/output_data/' + file, file_from='gamess_out_file',\n",
    "                   struct_type='numpy')\n",
    "    X += [fln.struct]\n",
    "    y += [fln.energy]\n",
    "\n",
    "data = pd.DataFrame({\n",
    "    'config': ['' for i in range(len(X))],\n",
    "    'gamess_potential': [0 for i in range(len(X))],\n",
    "    'stillinger_potential': [0 for i in range(len(X))],\n",
    "    'gamess_potential_atom': [0 for i in range(len(X))],\n",
    "    'stillinger_potential_atom': [0 for i in range(len(X))],\n",
    "    'error': [0 for i in range(len(X))]\n",
    "})\n",
    "for i in range(len(X)):\n",
    "    pot = fln.calc_pot(X[i])\n",
    "    data.loc[i, 'config'] = dir_list[i][:-4]\n",
    "    data.loc[i, 'gamess_potential'] = y[i]\n",
    "    data.loc[i, 'stillinger_potential_atom'] = pot/len(X[i])\n",
    "    data.loc[i, 'gamess_potential_atom'] = pot/len(X[i])\n",
    "    data.loc[i, 'stillinger_potential'] = y[i]\n",
    "    data.loc[i, 'error'] = (round((y[i] - pot)/y[i] * 100, 1))\n",
    "    data.loc[i, 'abs_error'] = abs(data.loc[i, 'error'])\n",
    "    print(pot, y[i], '%: ', round((y[i] - pot)/y[i] * 100, 1))"
   ]
  },
  {
   "cell_type": "code",
   "execution_count": 32,
   "id": "8d2c1f4c-b195-452f-8b43-5fcc555c36db",
   "metadata": {
    "execution": {
     "iopub.execute_input": "2023-05-27T20:10:14.113292Z",
     "iopub.status.busy": "2023-05-27T20:10:14.113292Z",
     "iopub.status.idle": "2023-05-27T20:10:14.183633Z",
     "shell.execute_reply": "2023-05-27T20:10:14.181639Z",
     "shell.execute_reply.started": "2023-05-27T20:10:14.113292Z"
    },
    "tags": []
   },
   "outputs": [
    {
     "name": "stdout",
     "output_type": "stream",
     "text": [
      "time: 63 ms (started: 2023-05-27 23:10:14 +03:00)\n"
     ]
    }
   ],
   "source": [
    "data.to_excel('other_data/data.xlsx', index=False)"
   ]
  }
 ],
 "metadata": {
  "kernelspec": {
   "display_name": "Python 3 (ipykernel)",
   "language": "python",
   "name": "python3"
  },
  "language_info": {
   "codemirror_mode": {
    "name": "ipython",
    "version": 3
   },
   "file_extension": ".py",
   "mimetype": "text/x-python",
   "name": "python",
   "nbconvert_exporter": "python",
   "pygments_lexer": "ipython3",
   "version": "3.8.16"
  }
 },
 "nbformat": 4,
 "nbformat_minor": 5
}
